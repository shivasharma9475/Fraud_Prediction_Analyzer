{
 "cells": [
  {
   "cell_type": "code",
   "execution_count": 1,
   "id": "a4d54289",
   "metadata": {},
   "outputs": [],
   "source": [
    "import pandas as pd \n",
    "import numpy as np"
   ]
  },
  {
   "cell_type": "code",
   "execution_count": 2,
   "id": "6bb1585b",
   "metadata": {},
   "outputs": [],
   "source": [
    "import joblib\n",
    "\n",
    "# Load the saved model\n",
    "loaded_model = joblib.load(\"xgb_fraud_model.joblib\")\n"
   ]
  },
  {
   "cell_type": "code",
   "execution_count": 3,
   "id": "4a1d6904",
   "metadata": {},
   "outputs": [],
   "source": [
    "# Ask user for raw transaction inputs\n",
    "amount = float(input(\"Enter transaction amount: \"))\n",
    "orig_balance_ratio = float(input(\"Enter original balance ratio (0-1): \"))\n",
    "exact_drain_flag = int(input(\"Exact drain flag (0/1): \"))\n",
    "large_transfer_flag = int(input(\"Large transfer flag (0/1): \"))\n",
    "is_flagged = int(input(\"Is transaction flagged? (0/1): \"))\n",
    "hour = int(input(\"Transaction hour (0-23): \"))\n",
    "transaction_type = input(\"Transaction type (CASH_IN, CASH_OUT, DEBIT, PAYMENT, TRANSFER): \")\n",
    "\n",
    "# Example for engineered features (calculate log, deltaOrig etc.)\n",
    "log_amount = np.log(amount + 1)\n",
    "deltaOrig = 1 - orig_balance_ratio  # example calculation\n",
    "log_amount_mean = np.log(40000 + 1)  # placeholder, can calculate from past data\n",
    "amount_count = 5\n",
    "amount_mean = 50000\n",
    "amount_std = 20000\n",
    "\n",
    "# One-hot encode transaction type\n",
    "type_CASH_IN = int(transaction_type == 'CASH_IN')\n",
    "type_CASH_OUT = int(transaction_type == 'CASH_OUT')\n",
    "type_DEBIT = int(transaction_type == 'DEBIT')\n",
    "type_PAYMENT = int(transaction_type == 'PAYMENT')\n",
    "type_TRANSFER = int(transaction_type == 'TRANSFER')\n",
    "\n",
    "# Create DataFrame for model\n",
    "transaction_df = pd.DataFrame({\n",
    "    'log_amount': [log_amount],\n",
    "    'deltaOrig': [deltaOrig],\n",
    "    'orig_balance_ratio': [orig_balance_ratio],\n",
    "    'exact_drain_flag': [exact_drain_flag],\n",
    "    'large_transfer_flag': [large_transfer_flag],\n",
    "    'is_flagged': [is_flagged],\n",
    "    'hour': [hour],\n",
    "    'type_CASH_IN': [type_CASH_IN],\n",
    "    'type_CASH_OUT': [type_CASH_OUT],\n",
    "    'type_DEBIT': [type_DEBIT],\n",
    "    'type_PAYMENT': [type_PAYMENT],\n",
    "    'type_TRANSFER': [type_TRANSFER],\n",
    "    'amount_count': [amount_count],\n",
    "    'amount_mean': [amount_mean],\n",
    "    'amount_std': [amount_std],\n",
    "    'log_amount_mean': [log_amount_mean]\n",
    "})\n"
   ]
  },
  {
   "cell_type": "code",
   "execution_count": 4,
   "id": "94f5ccf3",
   "metadata": {},
   "outputs": [],
   "source": [
    "# Make prediction\n",
    "pred = loaded_model.predict(transaction_df)\n",
    "prob = loaded_model.predict_proba(transaction_df)[:,1]"
   ]
  },
  {
   "cell_type": "code",
   "execution_count": 5,
   "id": "9e47df45",
   "metadata": {},
   "outputs": [
    {
     "name": "stdout",
     "output_type": "stream",
     "text": [
      "Fraud prediction: 1\n",
      "Fraud probability: 0.95297605\n"
     ]
    }
   ],
   "source": [
    "print(\"Fraud prediction:\", pred[0])\n",
    "print(\"Fraud probability:\", prob[0])"
   ]
  }
 ],
 "metadata": {
  "kernelspec": {
   "display_name": "Python 3",
   "language": "python",
   "name": "python3"
  },
  "language_info": {
   "codemirror_mode": {
    "name": "ipython",
    "version": 3
   },
   "file_extension": ".py",
   "mimetype": "text/x-python",
   "name": "python",
   "nbconvert_exporter": "python",
   "pygments_lexer": "ipython3",
   "version": "3.12.5"
  }
 },
 "nbformat": 4,
 "nbformat_minor": 5
}
